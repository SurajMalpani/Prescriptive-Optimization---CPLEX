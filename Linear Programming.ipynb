{
 "cells": [
  {
   "cell_type": "markdown",
   "metadata": {},
   "source": [
    "### This is a simple demo of utilizing the power of IBM Decision Optimization CPLEX tool."
   ]
  },
  {
   "cell_type": "code",
   "execution_count": 1,
   "metadata": {},
   "outputs": [
    {
     "name": "stdout",
     "output_type": "stream",
     "text": [
      "Collecting docplex\n",
      "  Downloading https://files.pythonhosted.org/packages/fb/b9/37d68e68bbb46625a283c6b900989934538d5fb2ae6e7748288641fbac30/docplex-2.10.155.tar.gz (529kB)\n",
      "Requirement already satisfied: requests in c:\\users\\suraj\\anaconda3\\lib\\site-packages (from docplex) (2.18.4)\n",
      "Requirement already satisfied: six in c:\\users\\suraj\\anaconda3\\lib\\site-packages (from docplex) (1.11.0)\n",
      "Collecting docloud>=1.0.369 (from docplex)\n",
      "  Downloading https://files.pythonhosted.org/packages/89/1c/fcb7ea86ae5cb7137a22f00bcaa785de2d102bd4a2b16383ec4a877a835b/docloud-1.0.375.tar.gz\n",
      "Requirement already satisfied: chardet<3.1.0,>=3.0.2 in c:\\users\\suraj\\anaconda3\\lib\\site-packages (from requests->docplex) (3.0.4)\n",
      "Requirement already satisfied: idna<2.7,>=2.5 in c:\\users\\suraj\\anaconda3\\lib\\site-packages (from requests->docplex) (2.6)\n",
      "Requirement already satisfied: urllib3<1.23,>=1.21.1 in c:\\users\\suraj\\anaconda3\\lib\\site-packages (from requests->docplex) (1.22)\n",
      "Requirement already satisfied: certifi>=2017.4.17 in c:\\users\\suraj\\anaconda3\\lib\\site-packages (from requests->docplex) (2018.1.18)\n",
      "Building wheels for collected packages: docplex, docloud\n",
      "  Building wheel for docplex (setup.py): started\n",
      "  Building wheel for docplex (setup.py): finished with status 'done'\n",
      "  Created wheel for docplex: filename=docplex-2.10.155-cp36-none-any.whl size=599166 sha256=26497894824187ba756c60107f6971693065fcc7274bfafa61202f8271bf8208\n",
      "  Stored in directory: C:\\Users\\suraj\\AppData\\Local\\pip\\Cache\\wheels\\4d\\29\\ab\\0ff88dd04d5b6a360650695db638b9f607931a1d667348a439\n",
      "  Building wheel for docloud (setup.py): started\n",
      "  Building wheel for docloud (setup.py): finished with status 'done'\n",
      "  Created wheel for docloud: filename=docloud-1.0.375-cp36-none-any.whl size=16405 sha256=d5b7a307b3939d357d2ce92fdfa197cd65eb770636a9c50f630b3b2deb7f5db3\n",
      "  Stored in directory: C:\\Users\\suraj\\AppData\\Local\\pip\\Cache\\wheels\\4e\\24\\19\\9b0e57545d7543ecec35c5faff78c058bf0c2506369c8b1d31\n",
      "Successfully built docplex docloud\n",
      "Installing collected packages: docloud, docplex\n",
      "Successfully installed docloud-1.0.375 docplex-2.10.155\n"
     ]
    },
    {
     "name": "stderr",
     "output_type": "stream",
     "text": [
      "WARNING: You are using pip version 19.2.3, however version 19.3.1 is available.\n",
      "You should consider upgrading via the 'python -m pip install --upgrade pip' command.\n"
     ]
    }
   ],
   "source": [
    "!pip install docplex\n",
    "#Installing docplex package"
   ]
  },
  {
   "cell_type": "code",
   "execution_count": 3,
   "metadata": {},
   "outputs": [],
   "source": [
    "from docplex.mp.model import Model"
   ]
  },
  {
   "cell_type": "code",
   "execution_count": 4,
   "metadata": {},
   "outputs": [],
   "source": [
    "import docplex.mp"
   ]
  },
  {
   "cell_type": "markdown",
   "metadata": {},
   "source": [
    "Need to create an IBM Account on the following URL to get the key.   \n",
    "Insert that key in the field below to run the Model."
   ]
  },
  {
   "cell_type": "code",
   "execution_count": 5,
   "metadata": {},
   "outputs": [],
   "source": [
    "url = \"https://api-oaas.docloud.ibmcloud.com/job_manager/rest/v1/\"\n",
    "key = None"
   ]
  },
  {
   "cell_type": "markdown",
   "metadata": {},
   "source": [
    "Develop a Model."
   ]
  },
  {
   "cell_type": "code",
   "execution_count": 6,
   "metadata": {},
   "outputs": [],
   "source": [
    "m = Model(name = 'telephone_production')"
   ]
  },
  {
   "cell_type": "code",
   "execution_count": 8,
   "metadata": {},
   "outputs": [],
   "source": [
    "desk = m.continuous_var(name='desk')\n",
    "cell = m.continuous_var(name='cell')"
   ]
  },
  {
   "cell_type": "markdown",
   "metadata": {},
   "source": [
    "Add the constraints as per the requirements.  \n",
    "We are assuming following requirements here."
   ]
  },
  {
   "cell_type": "code",
   "execution_count": 9,
   "metadata": {},
   "outputs": [
    {
     "data": {
      "text/plain": [
       "docplex.mp.LinearConstraint[](0.500desk+0.400cell,LE,490)"
      ]
     },
     "execution_count": 9,
     "metadata": {},
     "output_type": "execute_result"
    }
   ],
   "source": [
    "m.add_constraint(desk >= 100)\n",
    "m.add_constraint(cell >= 100)\n",
    "m.add_constraint(0.2*desk + 0.4 * cell <= 400)\n",
    "m.add_constraint(0.5*desk + 0.4 * cell <= 490)"
   ]
  },
  {
   "cell_type": "markdown",
   "metadata": {},
   "source": [
    "Here, we wish to maximize the telephone productions. Thus, the following equation."
   ]
  },
  {
   "cell_type": "code",
   "execution_count": 10,
   "metadata": {},
   "outputs": [],
   "source": [
    "m.maximize(12*desk + 20*cell)"
   ]
  },
  {
   "cell_type": "code",
   "execution_count": 11,
   "metadata": {},
   "outputs": [
    {
     "name": "stdout",
     "output_type": "stream",
     "text": [
      "Model: telephone_production\n",
      " - number of variables: 2\n",
      "   - binary=0, integer=0, continuous=2\n",
      " - number of constraints: 4\n",
      "   - linear=4\n",
      " - parameters: defaults\n"
     ]
    }
   ],
   "source": [
    "m.print_information()"
   ]
  },
  {
   "cell_type": "markdown",
   "metadata": {},
   "source": [
    "Solve the problem by providing IBM Cplex url and the key."
   ]
  },
  {
   "cell_type": "code",
   "execution_count": 12,
   "metadata": {},
   "outputs": [],
   "source": [
    "s = m.solve(url =url, key=key)"
   ]
  },
  {
   "cell_type": "code",
   "execution_count": 13,
   "metadata": {},
   "outputs": [
    {
     "name": "stdout",
     "output_type": "stream",
     "text": [
      "objective: 20600.000\n",
      "  desk=300.000\n",
      "  cell=850.000\n"
     ]
    }
   ],
   "source": [
    "m.print_solution()"
   ]
  }
 ],
 "metadata": {
  "kernelspec": {
   "display_name": "Python 3",
   "language": "python",
   "name": "python3"
  },
  "language_info": {
   "codemirror_mode": {
    "name": "ipython",
    "version": 3
   },
   "file_extension": ".py",
   "mimetype": "text/x-python",
   "name": "python",
   "nbconvert_exporter": "python",
   "pygments_lexer": "ipython3",
   "version": "3.6.4"
  }
 },
 "nbformat": 4,
 "nbformat_minor": 2
}
